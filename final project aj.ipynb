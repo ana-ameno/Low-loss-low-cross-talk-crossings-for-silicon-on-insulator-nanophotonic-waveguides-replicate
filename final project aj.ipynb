{
 "cells": [
  {
   "cell_type": "markdown",
   "metadata": {},
   "source": [
    "# Basic\n",
    "Importing libraries and setting up the simulation material"
   ]
  },
  {
   "cell_type": "code",
   "execution_count": 67,
   "metadata": {},
   "outputs": [],
   "source": [
    "import sys, os\n",
    "import importlib.util\n",
    "import numpy as np\n",
    "import matplotlib.pyplot as plt\n",
    "from scipy.constants import lambda2nu, nu2lambda, c"
   ]
  },
  {
   "cell_type": "code",
   "execution_count": 68,
   "metadata": {},
   "outputs": [],
   "source": [
    "from IPython.core.display import HTML\n",
    "from IPython.core.pylabtools import figsize\n",
    "from IPython.display import display, Math"
   ]
  },
  {
   "cell_type": "code",
   "execution_count": 69,
   "metadata": {},
   "outputs": [
    {
     "name": "stderr",
     "output_type": "stream",
     "text": [
      "C:\\\\Program Files\\\\Lumerical\\\\v221\\\\api\\\\python\\\\lumapi.py:796: SyntaxWarning: invalid escape sequence '\\s'\n",
      "  message = re.sub('^(Error:)\\s(prompt line)\\s[0-9]+:', '', str(rvals[2])).strip()\n"
     ]
    }
   ],
   "source": [
    "lumapiFile = r\"C:\\\\Program Files\\\\Lumerical\\\\v221\\\\api\\\\python\\\\lumapi.py\"\n",
    "spec = importlib.util.spec_from_file_location(\"lumapi\", lumapiFile)\n",
    "lumapi = importlib.util.module_from_spec(spec)\n",
    "spec.loader.exec_module(lumapi)\n",
    "modeapi = lumapi.MODE(hide = False)"
   ]
  },
  {
   "cell_type": "code",
   "execution_count": 70,
   "metadata": {},
   "outputs": [],
   "source": [
    "um = 1e-6\n",
    "nm = 1e-9"
   ]
  },
  {
   "cell_type": "code",
   "execution_count": 87,
   "metadata": {},
   "outputs": [],
   "source": [
    "# Materials\n",
    "material_Clad = \"SiO2 (Glass) - Palik\"\n",
    "material_Si = \"Si (Silicon) - Dispersive & Lossless\"\n",
    "\n",
    "# Add material Si\n",
    "matname = material_Si\n",
    "matReturn = modeapi.getmaterial(material_Si)\n",
    "if (modeapi.findstring(matReturn, 'is not available') != -1):\n",
    "    newmaterial = modeapi.addmaterial(\"Lorentz\")\n",
    "    modeapi.setmaterial(newmaterial, \"name\", matname)\n",
    "    modeapi.setmaterial(matname, \"Permittivity\", 7.98737492)\n",
    "    modeapi.setmaterial(matname, \"Lorentz Linewidth\", 1e8)\n",
    "    modeapi.setmaterial(matname, \"Lorentz Resonance\", 3.93282466e+15)\n",
    "    modeapi.setmaterial(matname, \"Lorentz Permittivity\", 3.68799143)\n",
    "    modeapi.setmaterial(matname, \"color\", np.array([0.85, 0, 0, 1]))  # red"
   ]
  },
  {
   "cell_type": "code",
   "execution_count": 88,
   "metadata": {},
   "outputs": [],
   "source": [
    "# Add material Clad\n",
    "matname = material_Clad\n",
    "matReturn = modeapi.getmaterial(material_Clad)\n",
    "if (modeapi.findstring(matReturn, 'is not available') != -1):\n",
    "    newmaterial = modeapi.addmaterial(\"Lorentz\")\n",
    "    modeapi.setmaterial(newmaterial, \"name\", matname)\n",
    "    modeapi.setmaterial(matname, \"Permittivity\", 2.119881)\n",
    "    modeapi.setmaterial(matname, \"Lorentz Linewidth\", 1e10)\n",
    "    modeapi.setmaterial(matname, \"Lorentz Resonance\", 3.30923843e+15)\n",
    "    modeapi.setmaterial(matname, \"Lorentz Permittivity\", 49.43721)\n",
    "    modeapi.setmaterial(matname, \"color\", np.array([0.5, 0.5, 0.5, 1]))  # grey"
   ]
  },
  {
   "cell_type": "code",
   "execution_count": 117,
   "metadata": {},
   "outputs": [],
   "source": [
    "modeapi.switchtolayout()\n",
    "\n",
    "modeapi.deleteall()\n",
    "\n",
    "modeapi.addstructuregroup()\n",
    "dev_layer = 'taper_cross'\n",
    "modeapi.set('name',dev_layer)\n",
    "modeapi.set(\"x\", 0)\n",
    "modeapi.set(\"y\", 0)\n",
    "modeapi.set(\"z\", 0)\n"
   ]
  },
  {
   "cell_type": "markdown",
   "metadata": {},
   "source": [
    "# Measurements"
   ]
  },
  {
   "cell_type": "code",
   "execution_count": 118,
   "metadata": {},
   "outputs": [],
   "source": [
    "#wavelenght\n",
    "lambda_0 = 1550*nm\n",
    "\n",
    "# Waveguide parameters\n",
    "wvg_width = 500 * nm\n",
    "wvg_height = 220 * nm\n",
    "wvg_lenght = 9 * um\n",
    "\n",
    "# Crossing parameters\n",
    "cross_lenght = 6 * um\n",
    "shlwetch_width = 800 * nm #the shallow etched final width when it gets to the crossing\n",
    "curve_width = 2.5 * um\n",
    "shlwetch_depth = 50 * nm\n",
    "deepetch_depth = 220 * nm"
   ]
  },
  {
   "cell_type": "code",
   "execution_count": 120,
   "metadata": {},
   "outputs": [],
   "source": [
    "# C Band simulation: 1520 - 1575 nm\n",
    "# L Band simulation: 1555 - 1635 nm\n",
    "# Bandwidth operation\n",
    "cband = True\n",
    "filename = \"final_project_%dx%d_nm\" % ( shlwetch_depth / nm ,deepetch_depth / nm)\n",
    "filename_var = \"final_projectVarFDTD_%dx%d_nm\" % (shlwetch_depth / nm , deepetch_depth / nm )\n",
    "\n",
    "if cband:\n",
    "    wvlngth_start = 1.520 * um\n",
    "    wvlngth_stop = 1.575 * um\n",
    "else:\n",
    "    wvlngth_start = 1.555 * um\n",
    "    wvlngth_stop = 1.635 * um\n",
    "\n",
    "numFreqPnts = 20"
   ]
  },
  {
   "cell_type": "code",
   "execution_count": 128,
   "metadata": {},
   "outputs": [],
   "source": [
    "modeapi.select(\"Glass_palik\")\n",
    "modeapi.delete()\n",
    "\n",
    "modeapi.addrect()\n",
    "modeapi.set(\"name\", \"Glass_palik\")\n",
    "modeapi.set(\"x\", 0)\n",
    "modeapi.set(\"x span\", 12 * um)\n",
    "modeapi.set(\"y\", 0)\n",
    "modeapi.set(\"y span\", 12 * um)\n",
    "modeapi.set(\"z\", -1*um)\n",
    "modeapi.set(\"z span\",2 * um)\n",
    "modeapi.set(\"material\", material_Clad)"
   ]
  },
  {
   "cell_type": "markdown",
   "metadata": {},
   "source": [
    "# Adding waveguides"
   ]
  },
  {
   "cell_type": "code",
   "execution_count": 126,
   "metadata": {},
   "outputs": [],
   "source": [
    "\n",
    "# Middle square\n",
    "modeapi.select(f\"{dev_layer}::box\")\n",
    "modeapi.delete()\n",
    "modeapi.addrect()\n",
    "modeapi.addtogroup(dev_layer)\n",
    "modeapi.set(\"name\", \"box\")\n",
    "modeapi.set(\"x\", 0)\n",
    "modeapi.set(\"x span\", shlwetch_width)\n",
    "modeapi.set(\"y\", 0)\n",
    "modeapi.set(\"y span\", shlwetch_width)\n",
    "modeapi.set(\"z\", (wvg_height) / 2)\n",
    "modeapi.set(\"z span\",(wvg_height))\n",
    "modeapi.set(\"material\", material_Si)\n"
   ]
  },
  {
   "cell_type": "code",
   "execution_count": 133,
   "metadata": {},
   "outputs": [],
   "source": [
    "# Tapers\n",
    "for i in range(4):\n",
    "    \n",
    "    #adding the shallow etch \n",
    "    modeapi.select(f\"{dev_layer}::taper port {str(i + 1)}\")\n",
    "    modeapi.delete()\n",
    "    modeapi.addobject(\"linear_taper\")\n",
    "    modeapi.addtogroup(dev_layer)\n",
    "    modeapi.set(\"name\", f\"taper port {str(i + 1)}\")\n",
    "    modeapi.set(\"thickness\", wvg_height)\n",
    "    modeapi.set(\"angle_side\", 90)\n",
    "    modeapi.set(\"width_l\", shlwetch_width)\n",
    "    modeapi.set(\"width_r\", wvg_width)\n",
    "    modeapi.set(\"len\", (cross_lenght-(800*nm))/2)\n",
    "    modeapi.set(\"material\", material_Si)\n",
    "    modeapi.set(\"z\", (wvg_height) / 2)\n",
    "    \n",
    "    # making the first 2 tapers be horizontal and the last 2 vertical\n",
    "    if(i<2):\n",
    "        x0 =  modeapi.getnamed(f\"{dev_layer}::box\", \"x max\")+ modeapi.getnamed(f\"{dev_layer}::taper port {str(i + 1)}\", \"len\")/2\n",
    "        y0 = modeapi.getnamed(f\"{dev_layer}::box\", \"y\")    \n",
    "        yspan = wvg_width\n",
    "        xspan = 2 * um\n",
    "        x1 = modeapi.getnamed(f\"{dev_layer}::box\", \"x\") + (cross_lenght+ 2 * um)/2 \n",
    "        y1 = modeapi.getnamed(f\"{dev_layer}::box\", \"y\")\n",
    "    else:\n",
    "        y0 =  modeapi.getnamed(f\"{dev_layer}::box\", \"y max\")+ modeapi.getnamed(f\"{dev_layer}::taper port {str(i + 1)}\", \"len\")/2\n",
    "        x0 = modeapi.getnamed(f\"{dev_layer}::box\", \"x\")\n",
    "        modeapi.set(\"first axis\", \"z\")\n",
    "        modeapi.set(\"rotation 1\", 90)\n",
    "        xspan = wvg_width\n",
    "        yspan = 2 * um\n",
    "        x1 = modeapi.getnamed(f\"{dev_layer}::box\", \"x\")\n",
    "        y1 = modeapi.getnamed(f\"{dev_layer}::box\", \"y\") + (cross_lenght+ 2 * um)/2\n",
    "\n",
    "# fixing their start and end\n",
    "    if((i + 1) % 2 == 0):\n",
    "        modeapi.set(\"x\", -x0)\n",
    "        modeapi.set(\"y\", y0)\n",
    "        modeapi.set(\"second axis\", \"y\")\n",
    "        modeapi.set(\"rotation 2\", 180)\n",
    "        x1 = -x1\n",
    "        #y1 = y1\n",
    "    else:\n",
    "        modeapi.set(\"x\", x0)\n",
    "        modeapi.set(\"y\", -y0)\n",
    "        modeapi.set(\"second axis\", \"x\")\n",
    "        modeapi.set(\"rotation 2\", 180)\n",
    "        y1 = -y1\n",
    "        \n",
    "    modeapi.select(f\"{dev_layer}::waveguide {str(i + 1)}\")\n",
    "    modeapi.delete()\n",
    "    modeapi.addrect()\n",
    "    modeapi.addtogroup(dev_layer)\n",
    "    modeapi.set(\"name\", f\"waveguide {str(i + 1)}\")\n",
    "    modeapi.set(\"z span\", wvg_height)\n",
    "    modeapi.set(\"y span\", yspan)\n",
    "    modeapi.set(\"x span\", xspan)\n",
    "    modeapi.set(\"x\",x1)\n",
    "    modeapi.set(\"y\",y1)\n",
    "    modeapi.set(\"material\", material_Si)\n",
    "    modeapi.set(\"z\", wvg_height / 2)\n",
    "    \n",
    "    modeapi.select(f\"{dev_layer}::curved taper {str(i + 1)}\")\n",
    "    modeapi.delete()\n",
    "    modeapi.addcustom()\n",
    "    modeapi.set(\"create 3D object by\",\"extrusion\")\n",
    "    modeapi.addtogroup(dev_layer)\n",
    "    modeapi.set(\"name\", f\"curved taper {str(i + 1)}\")\n",
    "    -1.335650270635493*(11.92424001771182-x)^0.5333330000000000+7.499999999999999\n",
    "    \n",
    "        "
   ]
  },
  {
   "cell_type": "code",
   "execution_count": null,
   "metadata": {},
   "outputs": [],
   "source": []
  },
  {
   "cell_type": "code",
   "execution_count": 94,
   "metadata": {},
   "outputs": [
    {
     "data": {
      "text/plain": [
       "<lumapi.SimObject at 0x1f569fd4f50>"
      ]
     },
     "execution_count": 94,
     "metadata": {},
     "output_type": "execute_result"
    }
   ],
   "source": [
    "modeapi.addvarfdtd()"
   ]
  }
 ],
 "metadata": {
  "kernelspec": {
   "display_name": "Python 3",
   "language": "python",
   "name": "python3"
  },
  "language_info": {
   "codemirror_mode": {
    "name": "ipython",
    "version": 3
   },
   "file_extension": ".py",
   "mimetype": "text/x-python",
   "name": "python",
   "nbconvert_exporter": "python",
   "pygments_lexer": "ipython3",
   "version": "3.12.6"
  }
 },
 "nbformat": 4,
 "nbformat_minor": 2
}
